{
 "cells": [
  {
   "cell_type": "markdown",
   "id": "2e3553fb",
   "metadata": {},
   "source": [
    "# Approach to the Solution"
   ]
  },
  {
   "cell_type": "markdown",
   "id": "64c20d33",
   "metadata": {},
   "source": [
    "- To successfully run the script and perform text analysis, we will approach the solution in several stages. \n",
    "- This includes setting up the environment, extracting article text, analyzing the text, and saving the results. \n",
    "- Here is the detailed approach:"
   ]
  },
  {
   "cell_type": "markdown",
   "id": "fadfaade",
   "metadata": {},
   "source": [
    "### 1. Setting Up the Environment:"
   ]
  },
  {
   "cell_type": "markdown",
   "id": "6b4684e5",
   "metadata": {},
   "source": [
    "1. Install necessary libraries.\n",
    "2. Prepare a list of positive and negative words."
   ]
  },
  {
   "cell_type": "markdown",
   "id": "cecfed5e",
   "metadata": {},
   "source": [
    "### 2. Extracting Article Text:"
   ]
  },
  {
   "cell_type": "markdown",
   "id": "24bdb1c1",
   "metadata": {},
   "source": [
    "1. Read URLs from the input Excel file.\n",
    "2. Fetch and parse the HTML content of each URL to extract the article title and body text."
   ]
  },
  {
   "cell_type": "markdown",
   "id": "494c3c12",
   "metadata": {},
   "source": [
    "### 3. Performing Text Analysis:"
   ]
  },
  {
   "cell_type": "markdown",
   "id": "63e01d5c",
   "metadata": {},
   "source": [
    "1. Compute various text metrics using the extracted article text.\n",
    "2. Use natural language processing techniques to calculate these metrics."
   ]
  },
  {
   "cell_type": "markdown",
   "id": "24599658",
   "metadata": {},
   "source": [
    "### 4. Saving the Results:"
   ]
  },
  {
   "cell_type": "markdown",
   "id": "4615166d",
   "metadata": {},
   "source": [
    "1. Save the computed metrics to an output Excel file."
   ]
  },
  {
   "cell_type": "markdown",
   "id": "3caa6388",
   "metadata": {},
   "source": [
    "# Running the Python Script"
   ]
  },
  {
   "cell_type": "markdown",
   "id": "63eed6c8",
   "metadata": {},
   "source": [
    "### 1. Install Dependencies"
   ]
  },
  {
   "cell_type": "markdown",
   "id": "e273a0a6",
   "metadata": {},
   "source": [
    "- Before running the script, ensure all necessary Python packages are installed. You can install them using \"pip\":"
   ]
  },
  {
   "cell_type": "code",
   "execution_count": 2,
   "id": "eac3df5b",
   "metadata": {
    "scrolled": false
   },
   "outputs": [
    {
     "name": "stdout",
     "output_type": "stream",
     "text": [
      "Requirement already satisfied: textblob in c:\\users\\sushil\\anaconda3\\lib\\site-packages (0.18.0.post0)\n",
      "Requirement already satisfied: nltk>=3.8 in c:\\users\\sushil\\anaconda3\\lib\\site-packages (from textblob) (3.8.1)\n",
      "Requirement already satisfied: tqdm in c:\\users\\sushil\\anaconda3\\lib\\site-packages (from nltk>=3.8->textblob) (4.64.1)\n",
      "Requirement already satisfied: joblib in c:\\users\\sushil\\anaconda3\\lib\\site-packages (from nltk>=3.8->textblob) (1.1.1)\n",
      "Requirement already satisfied: regex>=2021.8.3 in c:\\users\\sushil\\anaconda3\\lib\\site-packages (from nltk>=3.8->textblob) (2022.7.9)\n",
      "Requirement already satisfied: click in c:\\users\\sushil\\anaconda3\\lib\\site-packages (from nltk>=3.8->textblob) (8.1.7)\n",
      "Requirement already satisfied: colorama in c:\\users\\sushil\\anaconda3\\lib\\site-packages (from click->nltk>=3.8->textblob) (0.4.6)\n",
      "Note: you may need to restart the kernel to use updated packages.\n"
     ]
    }
   ],
   "source": [
    "pip install textblob"
   ]
  },
  {
   "cell_type": "code",
   "execution_count": 3,
   "id": "18e56e89",
   "metadata": {
    "scrolled": false
   },
   "outputs": [
    {
     "name": "stdout",
     "output_type": "stream",
     "text": [
      "Requirement already satisfied: requests in c:\\users\\sushil\\anaconda3\\lib\\site-packages (2.31.0)\n",
      "Requirement already satisfied: beautifulsoup4 in c:\\users\\sushil\\anaconda3\\lib\\site-packages (4.11.1)\n",
      "Requirement already satisfied: pandas in c:\\users\\sushil\\anaconda3\\lib\\site-packages (1.5.3)\n",
      "Requirement already satisfied: nltk in c:\\users\\sushil\\anaconda3\\lib\\site-packages (3.8.1)\n",
      "Requirement already satisfied: textstat in c:\\users\\sushil\\anaconda3\\lib\\site-packages (0.7.3)\n",
      "Requirement already satisfied: syllapy in c:\\users\\sushil\\anaconda3\\lib\\site-packages (0.7.2)\n",
      "Requirement already satisfied: textblob in c:\\users\\sushil\\anaconda3\\lib\\site-packages (0.18.0.post0)\n",
      "Requirement already satisfied: certifi>=2017.4.17 in c:\\users\\sushil\\anaconda3\\lib\\site-packages (from requests) (2022.12.7)\n",
      "Requirement already satisfied: idna<4,>=2.5 in c:\\users\\sushil\\anaconda3\\lib\\site-packages (from requests) (2.10)\n",
      "Requirement already satisfied: urllib3<3,>=1.21.1 in c:\\users\\sushil\\anaconda3\\lib\\site-packages (from requests) (2.0.5)\n",
      "Requirement already satisfied: charset-normalizer<4,>=2 in c:\\users\\sushil\\anaconda3\\lib\\site-packages (from requests) (2.0.4)\n",
      "Requirement already satisfied: soupsieve>1.2 in c:\\users\\sushil\\anaconda3\\lib\\site-packages (from beautifulsoup4) (2.3.2.post1)\n",
      "Requirement already satisfied: pytz>=2020.1 in c:\\users\\sushil\\anaconda3\\lib\\site-packages (from pandas) (2022.7)\n",
      "Requirement already satisfied: numpy>=1.21.0 in c:\\users\\sushil\\anaconda3\\lib\\site-packages (from pandas) (1.23.5)\n",
      "Requirement already satisfied: python-dateutil>=2.8.1 in c:\\users\\sushil\\anaconda3\\lib\\site-packages (from pandas) (2.8.2)\n",
      "Requirement already satisfied: joblib in c:\\users\\sushil\\anaconda3\\lib\\site-packages (from nltk) (1.1.1)\n",
      "Requirement already satisfied: click in c:\\users\\sushil\\anaconda3\\lib\\site-packages (from nltk) (8.1.7)\n",
      "Requirement already satisfied: tqdm in c:\\users\\sushil\\anaconda3\\lib\\site-packages (from nltk) (4.64.1)\n",
      "Requirement already satisfied: regex>=2021.8.3 in c:\\users\\sushil\\anaconda3\\lib\\site-packages (from nltk) (2022.7.9)\n",
      "Requirement already satisfied: pyphen in c:\\users\\sushil\\anaconda3\\lib\\site-packages (from textstat) (0.15.0)\n",
      "Requirement already satisfied: six>=1.5 in c:\\users\\sushil\\anaconda3\\lib\\site-packages (from python-dateutil>=2.8.1->pandas) (1.16.0)\n",
      "Requirement already satisfied: colorama in c:\\users\\sushil\\anaconda3\\lib\\site-packages (from click->nltk) (0.4.6)\n",
      "Note: you may need to restart the kernel to use updated packages.\n"
     ]
    }
   ],
   "source": [
    "pip install requests beautifulsoup4 pandas nltk textstat syllapy textblob\n"
   ]
  },
  {
   "cell_type": "markdown",
   "id": "78463dc2",
   "metadata": {},
   "source": [
    "### 2. Prepare Positive and Negative Words Lists"
   ]
  },
  {
   "cell_type": "markdown",
   "id": "1c8af9f5",
   "metadata": {},
   "source": [
    "- Create a Python script (\"write_words_to_file.py\") to generate \"positive-words.txt\" and \"negative-words.txt\" files:"
   ]
  },
  {
   "cell_type": "code",
   "execution_count": 4,
   "id": "51569e0e",
   "metadata": {},
   "outputs": [
    {
     "name": "stdout",
     "output_type": "stream",
     "text": [
      "Files created successfully.\n"
     ]
    }
   ],
   "source": [
    "# Lists of positive and negative words\n",
    "positive_words = [\n",
    "    \"able\", \"abundance\", \"accomplish\", \"achievement\", \"active\", \"admire\", \"adventure\", \"affirmative\",\n",
    "    \"amazing\", \"angelic\", \"awesome\", \"beautiful\", \"blessing\", \"brilliant\", \"celebrate\", \"champion\",\n",
    "    \"charming\", \"cheerful\", \"clever\", \"confident\", \"courageous\", \"creative\", \"delight\", \"divine\",\n",
    "    \"elegant\", \"enchanting\", \"encouraging\", \"energetic\", \"enjoy\", \"enthusiastic\", \"excellent\", \n",
    "    \"fabulous\", \"fantastic\", \"flourish\", \"fortunate\", \"free\", \"friendly\", \"fun\", \"generous\",\n",
    "    \"genius\", \"glorious\", \"good\", \"great\", \"happy\", \"harmonious\", \"healthy\", \"heroic\", \"imaginative\",\n",
    "    \"impressive\", \"incredible\", \"inspirational\", \"intelligent\", \"joyful\", \"kind\", \"knowledgeable\",\n",
    "    \"laugh\", \"love\", \"lucky\", \"marvelous\", \"motivated\", \"outstanding\", \"perfect\", \"phenomenal\", \n",
    "    \"positive\", \"prosperous\", \"remarkable\", \"resilient\", \"resourceful\", \"spectacular\", \"splendid\",\n",
    "    \"successful\", \"terrific\", \"thriving\", \"trustworthy\", \"unique\", \"uplifting\", \"victorious\", \"vivid\",\n",
    "    \"wonderful\", \"worthy\"\n",
    "]\n",
    "\n",
    "negative_words = [\n",
    "    \"abandon\", \"abuse\", \"afraid\", \"aggressive\", \"angry\", \"annoy\", \"anxiety\", \"arrogant\", \"ashamed\", \n",
    "    \"awful\", \"bad\", \"bitter\", \"bored\", \"broken\", \"clumsy\", \"collapse\", \"conflict\", \"confused\", \n",
    "    \"corrupt\", \"crazy\", \"crime\", \"cruel\", \"cry\", \"damage\", \"danger\", \"dark\", \"dead\", \"depressed\", \n",
    "    \"desperate\", \"destroy\", \"difficult\", \"disaster\", \"disgusting\", \"distress\", \"dreadful\", \"dull\", \n",
    "    \"embarrass\", \"enemy\", \"error\", \"evil\", \"fail\", \"fear\", \"filthy\", \"fool\", \"frighten\", \"frustrate\", \n",
    "    \"gloomy\", \"greed\", \"grief\", \"guilty\", \"harm\", \"hate\", \"heartbreaking\", \"horrible\", \"hostile\", \n",
    "    \"hurt\", \"ignorant\", \"ill\", \"immoral\", \"impatient\", \"imperfect\", \"impossible\", \"insecure\", \n",
    "    \"insult\", \"jealous\", \"lazy\", \"lost\", \"lousy\", \"mad\", \"mean\", \"messy\", \"miserable\", \"negative\", \n",
    "    \"nervous\", \"offensive\", \"pain\", \"pathetic\", \"poor\", \"reject\", \"repulsive\", \"revenge\", \"sad\", \n",
    "    \"scared\", \"selfish\", \"shame\", \"sick\", \"stress\", \"stupid\", \"terrible\", \"ugly\", \"unhappy\", \n",
    "    \"upset\", \"useless\", \"weak\", \"worry\", \"worthless\"\n",
    "]\n",
    "\n",
    "# Function to write a list of words to a file\n",
    "def write_words_to_file(filename, words):\n",
    "    with open(filename, 'w') as file:\n",
    "        for word in words:\n",
    "            file.write(word + '\\n')\n",
    "\n",
    "# Create the files\n",
    "write_words_to_file('positive-words.txt', positive_words)\n",
    "write_words_to_file('negative-words.txt', negative_words)\n",
    "\n",
    "print(\"Files created successfully.\")\n"
   ]
  },
  {
   "cell_type": "markdown",
   "id": "35d258be",
   "metadata": {},
   "source": [
    "### 3. Extracting Article Text"
   ]
  },
  {
   "cell_type": "markdown",
   "id": "ce6022d7",
   "metadata": {},
   "source": [
    "- Create a Python script (\"extract_articles.py\") to extract text from the provided URLs:"
   ]
  },
  {
   "cell_type": "code",
   "execution_count": 1,
   "id": "093a7aee",
   "metadata": {
    "scrolled": false
   },
   "outputs": [
    {
     "name": "stdout",
     "output_type": "stream",
     "text": [
      "Successfully extracted and saved article for URL_ID: blackassign0001\n",
      "Successfully extracted and saved article for URL_ID: blackassign0002\n",
      "Successfully extracted and saved article for URL_ID: blackassign0003\n",
      "Successfully extracted and saved article for URL_ID: blackassign0004\n",
      "Successfully extracted and saved article for URL_ID: blackassign0005\n",
      "Successfully extracted and saved article for URL_ID: blackassign0006\n",
      "Successfully extracted and saved article for URL_ID: blackassign0007\n",
      "Successfully extracted and saved article for URL_ID: blackassign0008\n",
      "Successfully extracted and saved article for URL_ID: blackassign0009\n",
      "Successfully extracted and saved article for URL_ID: blackassign0010\n",
      "Successfully extracted and saved article for URL_ID: blackassign0011\n",
      "Successfully extracted and saved article for URL_ID: blackassign0012\n",
      "Successfully extracted and saved article for URL_ID: blackassign0013\n",
      "Successfully extracted and saved article for URL_ID: blackassign0014\n",
      "Successfully extracted and saved article for URL_ID: blackassign0015\n",
      "Successfully extracted and saved article for URL_ID: blackassign0016\n",
      "Successfully extracted and saved article for URL_ID: blackassign0017\n",
      "Successfully extracted and saved article for URL_ID: blackassign0018\n",
      "Successfully extracted and saved article for URL_ID: blackassign0019\n",
      "Successfully extracted and saved article for URL_ID: blackassign0020\n",
      "Successfully extracted and saved article for URL_ID: blackassign0021\n",
      "Successfully extracted and saved article for URL_ID: blackassign0022\n",
      "Successfully extracted and saved article for URL_ID: blackassign0023\n",
      "Successfully extracted and saved article for URL_ID: blackassign0024\n",
      "Successfully extracted and saved article for URL_ID: blackassign0025\n",
      "Successfully extracted and saved article for URL_ID: blackassign0026\n",
      "Successfully extracted and saved article for URL_ID: blackassign0027\n",
      "Successfully extracted and saved article for URL_ID: blackassign0028\n",
      "Successfully extracted and saved article for URL_ID: blackassign0029\n",
      "Successfully extracted and saved article for URL_ID: blackassign0030\n",
      "Successfully extracted and saved article for URL_ID: blackassign0031\n",
      "Successfully extracted and saved article for URL_ID: blackassign0032\n",
      "Successfully extracted and saved article for URL_ID: blackassign0033\n",
      "Successfully extracted and saved article for URL_ID: blackassign0034\n",
      "Successfully extracted and saved article for URL_ID: blackassign0035\n",
      "Error extracting article text from https://insights.blackcoffer.com/how-neural-networks-can-be-applied-in-various-areas-in-the-future/: 404 Client Error: Not Found for url: https://insights.blackcoffer.com/how-neural-networks-can-be-applied-in-various-areas-in-the-future/\n",
      "Failed to extract article for URL_ID: blackassign0036\n",
      "Successfully extracted and saved article for URL_ID: blackassign0037\n",
      "Successfully extracted and saved article for URL_ID: blackassign0038\n",
      "Successfully extracted and saved article for URL_ID: blackassign0039\n",
      "Successfully extracted and saved article for URL_ID: blackassign0040\n",
      "Successfully extracted and saved article for URL_ID: blackassign0041\n",
      "Successfully extracted and saved article for URL_ID: blackassign0042\n",
      "Successfully extracted and saved article for URL_ID: blackassign0043\n",
      "Successfully extracted and saved article for URL_ID: blackassign0044\n",
      "Successfully extracted and saved article for URL_ID: blackassign0045\n",
      "Successfully extracted and saved article for URL_ID: blackassign0046\n",
      "Successfully extracted and saved article for URL_ID: blackassign0047\n",
      "Successfully extracted and saved article for URL_ID: blackassign0048\n",
      "Error extracting article text from https://insights.blackcoffer.com/covid-19-environmental-impact-for-the-future/: 404 Client Error: Not Found for url: https://insights.blackcoffer.com/covid-19-environmental-impact-for-the-future/\n",
      "Failed to extract article for URL_ID: blackassign0049\n",
      "Successfully extracted and saved article for URL_ID: blackassign0050\n",
      "Successfully extracted and saved article for URL_ID: blackassign0051\n",
      "Successfully extracted and saved article for URL_ID: blackassign0052\n",
      "Successfully extracted and saved article for URL_ID: blackassign0053\n",
      "Successfully extracted and saved article for URL_ID: blackassign0054\n",
      "Successfully extracted and saved article for URL_ID: blackassign0055\n",
      "Successfully extracted and saved article for URL_ID: blackassign0056\n",
      "Successfully extracted and saved article for URL_ID: blackassign0057\n",
      "Successfully extracted and saved article for URL_ID: blackassign0058\n",
      "Successfully extracted and saved article for URL_ID: blackassign0059\n",
      "Successfully extracted and saved article for URL_ID: blackassign0060\n",
      "Successfully extracted and saved article for URL_ID: blackassign0061\n",
      "Successfully extracted and saved article for URL_ID: blackassign0062\n",
      "Successfully extracted and saved article for URL_ID: blackassign0063\n",
      "Successfully extracted and saved article for URL_ID: blackassign0064\n",
      "Successfully extracted and saved article for URL_ID: blackassign0065\n",
      "Successfully extracted and saved article for URL_ID: blackassign0066\n",
      "Successfully extracted and saved article for URL_ID: blackassign0067\n",
      "Successfully extracted and saved article for URL_ID: blackassign0068\n",
      "Successfully extracted and saved article for URL_ID: blackassign0069\n",
      "Successfully extracted and saved article for URL_ID: blackassign0070\n",
      "Successfully extracted and saved article for URL_ID: blackassign0071\n",
      "Successfully extracted and saved article for URL_ID: blackassign0072\n",
      "Successfully extracted and saved article for URL_ID: blackassign0073\n",
      "Successfully extracted and saved article for URL_ID: blackassign0074\n",
      "Successfully extracted and saved article for URL_ID: blackassign0075\n",
      "Successfully extracted and saved article for URL_ID: blackassign0076\n",
      "Successfully extracted and saved article for URL_ID: blackassign0077\n",
      "Successfully extracted and saved article for URL_ID: blackassign0078\n",
      "Successfully extracted and saved article for URL_ID: blackassign0079\n",
      "Successfully extracted and saved article for URL_ID: blackassign0080\n",
      "Successfully extracted and saved article for URL_ID: blackassign0081\n",
      "Successfully extracted and saved article for URL_ID: blackassign0082\n",
      "Successfully extracted and saved article for URL_ID: blackassign0083\n",
      "Successfully extracted and saved article for URL_ID: blackassign0084\n",
      "Successfully extracted and saved article for URL_ID: blackassign0085\n",
      "Successfully extracted and saved article for URL_ID: blackassign0086\n",
      "Successfully extracted and saved article for URL_ID: blackassign0087\n",
      "Successfully extracted and saved article for URL_ID: blackassign0088\n",
      "Successfully extracted and saved article for URL_ID: blackassign0089\n",
      "Successfully extracted and saved article for URL_ID: blackassign0090\n",
      "Successfully extracted and saved article for URL_ID: blackassign0091\n",
      "Successfully extracted and saved article for URL_ID: blackassign0092\n",
      "Successfully extracted and saved article for URL_ID: blackassign0093\n",
      "Successfully extracted and saved article for URL_ID: blackassign0094\n",
      "Successfully extracted and saved article for URL_ID: blackassign0095\n",
      "Successfully extracted and saved article for URL_ID: blackassign0096\n",
      "Successfully extracted and saved article for URL_ID: blackassign0097\n",
      "Successfully extracted and saved article for URL_ID: blackassign0098\n",
      "Successfully extracted and saved article for URL_ID: blackassign0099\n",
      "Successfully extracted and saved article for URL_ID: blackassign0100\n"
     ]
    }
   ],
   "source": [
    "import requests\n",
    "from bs4 import BeautifulSoup\n",
    "import pandas as pd\n",
    "import re\n",
    "\n",
    "# Function to extract article text\n",
    "def extract_article_text(url):\n",
    "    try:\n",
    "        response = requests.get(url)\n",
    "        response.raise_for_status()\n",
    "        soup = BeautifulSoup(response.content, 'html.parser')\n",
    "\n",
    "        # Extract title\n",
    "        title = soup.find('h1').get_text()\n",
    "\n",
    "        # Extract article body\n",
    "        article_body = soup.find('div', class_='td-post-content')\n",
    "        paragraphs = article_body.find_all('p')\n",
    "\n",
    "        article_text = \"\\n\".join([p.get_text() for p in paragraphs])\n",
    "        \n",
    "        return title, article_text\n",
    "    except Exception as e:\n",
    "        print(f\"Error extracting article text from {url}: {e}\")\n",
    "        return None, None\n",
    "\n",
    "# Load input data\n",
    "input_file = 'Input.xlsx'\n",
    "input_data = pd.read_excel(r\"C:\\Users\\SUSHIL\\Downloads\\Input.xlsx\")\n",
    "\n",
    "# Iterate through each URL and extract the text\n",
    "for index, row in input_data.iterrows():\n",
    "    url_id = row['URL_ID']\n",
    "    url = row['URL']\n",
    "    \n",
    "    title, article_text = extract_article_text(url)\n",
    "    \n",
    "    if title and article_text:\n",
    "        file_name = f\"{url_id}.txt\"\n",
    "        with open(file_name, 'w', encoding='utf-8') as file:\n",
    "            file.write(title + \"\\n\\n\")\n",
    "            file.write(article_text)\n",
    "        print(f\"Successfully extracted and saved article for URL_ID: {url_id}\")\n",
    "    else:\n",
    "        print(f\"Failed to extract article for URL_ID: {url_id}\")"
   ]
  },
  {
   "cell_type": "markdown",
   "id": "763ca858",
   "metadata": {},
   "source": [
    "### 4. Performing Text Analysis"
   ]
  },
  {
   "cell_type": "markdown",
   "id": "7086898c",
   "metadata": {},
   "source": [
    "- Create a Python script (\"text_analysis.py\") to perform text analysis:"
   ]
  },
  {
   "cell_type": "code",
   "execution_count": 5,
   "id": "6e3e3e85",
   "metadata": {
    "scrolled": true
   },
   "outputs": [
    {
     "name": "stderr",
     "output_type": "stream",
     "text": [
      "[nltk_data] Downloading package punkt to\n",
      "[nltk_data]     C:\\Users\\SUSHIL\\AppData\\Roaming\\nltk_data...\n",
      "[nltk_data]   Package punkt is already up-to-date!\n",
      "[nltk_data] Downloading package stopwords to\n",
      "[nltk_data]     C:\\Users\\SUSHIL\\AppData\\Roaming\\nltk_data...\n",
      "[nltk_data]   Package stopwords is already up-to-date!\n"
     ]
    },
    {
     "name": "stdout",
     "output_type": "stream",
     "text": [
      "Error extracting article text from https://insights.blackcoffer.com/how-neural-networks-can-be-applied-in-various-areas-in-the-future/: 404 Client Error: Not Found for url: https://insights.blackcoffer.com/how-neural-networks-can-be-applied-in-various-areas-in-the-future/\n",
      "Failed to process article for URL_ID: blackassign0036\n",
      "Error extracting article text from https://insights.blackcoffer.com/covid-19-environmental-impact-for-the-future/: 404 Client Error: Not Found for url: https://insights.blackcoffer.com/covid-19-environmental-impact-for-the-future/\n",
      "Failed to process article for URL_ID: blackassign0049\n",
      "Textual analysis complete and results saved.\n"
     ]
    }
   ],
   "source": [
    "import nltk\n",
    "from nltk.tokenize import word_tokenize, sent_tokenize\n",
    "from textblob import TextBlob\n",
    "import textstat\n",
    "import syllapy\n",
    "\n",
    "# Ensure you have the required NLTK datasets\n",
    "nltk.download('punkt')\n",
    "nltk.download('stopwords')\n",
    "\n",
    "# Load positive and negative word lists\n",
    "positive_words = set(open('positive-words.txt').read().split())\n",
    "negative_words = set(open('negative-words.txt').read().split())\n",
    "\n",
    "# Function to extract article text\n",
    "def extract_article_text(url):\n",
    "    try:\n",
    "        response = requests.get(url)\n",
    "        response.raise_for_status()\n",
    "        soup = BeautifulSoup(response.content, 'html.parser')\n",
    "\n",
    "        # Extract title\n",
    "        title = soup.find('h1').get_text()\n",
    "\n",
    "        # Extract article body\n",
    "        article_body = soup.find('div', class_='td-post-content')\n",
    "        paragraphs = article_body.find_all('p')\n",
    "\n",
    "        article_text = \"\\n\".join([p.get_text() for p in paragraphs])\n",
    "        \n",
    "        return title, article_text\n",
    "    except Exception as e:\n",
    "        print(f\"Error extracting article text from {url}: {e}\")\n",
    "        return None, None\n",
    "    \n",
    "# Function to calculate positive score\n",
    "def positive_score(text):\n",
    "    words = word_tokenize(text)\n",
    "    return sum(1 for word in words if word.lower() in positive_words)\n",
    "\n",
    "# Function to calculate negative score\n",
    "def negative_score(text):\n",
    "    words = word_tokenize(text)\n",
    "    return sum(1 for word in words if word.lower() in negative_words)\n",
    "\n",
    "# Function to calculate polarity score\n",
    "def polarity_score(text):\n",
    "    analysis = TextBlob(text)\n",
    "    return analysis.sentiment.polarity\n",
    "\n",
    "# Function to calculate subjectivity score\n",
    "def subjectivity_score(text):\n",
    "    analysis = TextBlob(text)\n",
    "    return analysis.sentiment.subjectivity\n",
    "\n",
    "# Function to calculate average sentence length\n",
    "def avg_sentence_length(text):\n",
    "    sentences = sent_tokenize(text)\n",
    "    words = word_tokenize(text)\n",
    "    return len(words) / len(sentences)\n",
    "\n",
    "# Function to calculate percentage of complex words\n",
    "def percentage_complex_words(text):\n",
    "    words = word_tokenize(text)\n",
    "    complex_words = [word for word in words if syllapy.count(word) >= 3]\n",
    "    return len(complex_words) / len(words) * 100\n",
    "\n",
    "# Function to calculate Fog Index\n",
    "def fog_index(text):\n",
    "    return textstat.gunning_fog(text)\n",
    "\n",
    "# Function to calculate average number of words per sentence\n",
    "def avg_words_per_sentence(text):\n",
    "    sentences = sent_tokenize(text)\n",
    "    words = word_tokenize(text)\n",
    "    return len(words) / len(sentences)\n",
    "\n",
    "# Function to calculate complex word count\n",
    "def complex_word_count(text):\n",
    "    words = word_tokenize(text)\n",
    "    return sum(1 for word in words if syllapy.count(word) >= 3)\n",
    "\n",
    "# Function to calculate word count\n",
    "def word_count(text):\n",
    "    words = word_tokenize(text)\n",
    "    return len(words)\n",
    "\n",
    "# Function to calculate syllables per word\n",
    "def syllable_per_word(text):\n",
    "    words = word_tokenize(text)\n",
    "    syllables = sum(syllapy.count(word) for word in words)\n",
    "    return syllables / len(words)\n",
    "\n",
    "# Function to calculate personal pronouns\n",
    "def personal_pronouns(text):\n",
    "    words = word_tokenize(text)\n",
    "    personal_pronouns_list = ['I', 'we', 'my', 'ours', 'us', 'We', 'My', 'Ours', 'Us']\n",
    "    return sum(1 for word in words if word in personal_pronouns_list)\n",
    "\n",
    "# Function to calculate average word length\n",
    "def avg_word_length(text):\n",
    "    words = word_tokenize(text)\n",
    "    return sum(len(word) for word in words) / len(words)\n",
    "\n",
    "# Load input data\n",
    "input_file = 'Input.xlsx'\n",
    "input_data = pd.read_excel(r\"C:\\Users\\SUSHIL\\Downloads\\Input.xlsx\")\n",
    "\n",
    "# Prepare a list to hold results\n",
    "results = []\n",
    "\n",
    "# Iterate through each URL and process the text\n",
    "for index, row in input_data.iterrows():\n",
    "    url_id = row['URL_ID']\n",
    "    url = row['URL']\n",
    "    \n",
    "    title, article_text = extract_article_text(url)\n",
    "    \n",
    "    if title and article_text:\n",
    "        analysis_results = {\n",
    "            \"URL_ID\": url_id,\n",
    "            \"URL\": url,\n",
    "            \"Title\": title,\n",
    "            \"Positive Score\": positive_score(article_text),\n",
    "            \"Negative Score\": negative_score(article_text),\n",
    "            \"Polarity Score\": polarity_score(article_text),\n",
    "            \"Subjectivity Score\": subjectivity_score(article_text),\n",
    "            \"Avg Sentence Length\": avg_sentence_length(article_text),\n",
    "            \"Percentage of Complex Words\": percentage_complex_words(article_text),\n",
    "            \"Fog Index\": fog_index(article_text),\n",
    "            \"Avg Words Per Sentence\": avg_words_per_sentence(article_text),\n",
    "            \"Complex Word Count\": complex_word_count(article_text),\n",
    "            \"Word Count\": word_count(article_text),\n",
    "            \"Syllable Per Word\": syllable_per_word(article_text),\n",
    "            \"Personal Pronouns\": personal_pronouns(article_text),\n",
    "            \"Avg Word Length\": avg_word_length(article_text)\n",
    "        }\n",
    "        results.append(analysis_results)\n",
    "    else:\n",
    "        print(f\"Failed to process article for URL_ID: {url_id}\")\n",
    "        \n",
    "# Convert results to DataFrame\n",
    "results_df = pd.DataFrame(results)\n",
    "\n",
    "# Save results to an Excel file\n",
    "output_file = 'Output Data Structure.xlsx'\n",
    "results_df.to_excel(output_file, index=False)\n",
    "\n",
    "print(\"Textual analysis complete and results saved.\")\n",
    "        "
   ]
  },
  {
   "cell_type": "markdown",
   "id": "386b3ee6",
   "metadata": {},
   "source": [
    "# Summary"
   ]
  },
  {
   "cell_type": "markdown",
   "id": "f2c46007",
   "metadata": {},
   "source": [
    "1. Setup: Ensure all required libraries are installed.\n",
    "2. Prepare Word Lists: Generate \"positive-words.txt\" and \"negative-words.txt:\".\n",
    "3. Extract Articles: Scrape article content from the URLs in \"Input.xlsx\" and save them.\n",
    "4. Analyze Text: Compute textual metrics and save the results in \"Output Data Structure.xlsx\"."
   ]
  },
  {
   "cell_type": "markdown",
   "id": "a2e20239",
   "metadata": {},
   "source": [
    "Following these steps will allow us to perform the required text analysis and generate the desired output."
   ]
  },
  {
   "cell_type": "code",
   "execution_count": null,
   "id": "51b32c5f",
   "metadata": {},
   "outputs": [],
   "source": []
  }
 ],
 "metadata": {
  "kernelspec": {
   "display_name": "Python 3 (ipykernel)",
   "language": "python",
   "name": "python3"
  },
  "language_info": {
   "codemirror_mode": {
    "name": "ipython",
    "version": 3
   },
   "file_extension": ".py",
   "mimetype": "text/x-python",
   "name": "python",
   "nbconvert_exporter": "python",
   "pygments_lexer": "ipython3",
   "version": "3.10.9"
  }
 },
 "nbformat": 4,
 "nbformat_minor": 5
}
